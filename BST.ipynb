{
  "nbformat": 4,
  "nbformat_minor": 0,
  "metadata": {
    "colab": {
      "provenance": [],
      "authorship_tag": "ABX9TyP2uUCLH1SpLxu3FhRiFR7G",
      "include_colab_link": true
    },
    "kernelspec": {
      "name": "python3",
      "display_name": "Python 3"
    },
    "language_info": {
      "name": "python"
    }
  },
  "cells": [
    {
      "cell_type": "markdown",
      "metadata": {
        "id": "view-in-github",
        "colab_type": "text"
      },
      "source": [
        "<a href=\"https://colab.research.google.com/github/shiburowin/Training/blob/main/BST.ipynb\" target=\"_parent\"><img src=\"https://colab.research.google.com/assets/colab-badge.svg\" alt=\"Open In Colab\"/></a>"
      ]
    },
    {
      "cell_type": "code",
      "execution_count": 1,
      "metadata": {
        "colab": {
          "base_uri": "https://localhost:8080/"
        },
        "id": "0bMTqbURGPzD",
        "outputId": "b4ccd696-6784-4a18-bea6-76276d06c92a"
      },
      "outputs": [
        {
          "output_type": "stream",
          "name": "stdout",
          "text": [
            "Inorder traversal:  1-> 3-> 4-> 6-> 7-> 8-> 10-> 14-> \n",
            "Delete 10\n",
            "Inorder traversal:  1-> 3-> 4-> 6-> 7-> 8-> 14-> "
          ]
        }
      ],
      "source": [
        "class Node:\n",
        "    def __init__(self, key):\n",
        "        self.key = key\n",
        "        self.left = None\n",
        "        self.right = None\n",
        "def inorder(root):\n",
        "    if root is not None:\n",
        "        inorder(root.left)\n",
        "        print(str(root.key) + \"->\", end=' ')\n",
        "        inorder(root.right)\n",
        "def insert(node, key):\n",
        "    if node is None:\n",
        "        return Node(key)\n",
        "    if key < node.key:\n",
        "        node.left = insert(node.left, key)\n",
        "    else:\n",
        "        node.right = insert(node.right, key)\n",
        "    return node\n",
        "def minValueNode(node):\n",
        "    current = node\n",
        "    while(current.left is not None):\n",
        "        current = current.left\n",
        "    return current\n",
        "def deleteNode(root, key):\n",
        "    if root is None:\n",
        "        return root\n",
        "    if key < root.key:\n",
        "        root.left = deleteNode(root.left, key)\n",
        "    elif(key > root.key):\n",
        "        root.right = deleteNode(root.right, key)\n",
        "    else:\n",
        "        if root.left is None:\n",
        "            temp = root.right\n",
        "            root = None\n",
        "            return temp\n",
        "        elif root.right is None:\n",
        "            temp = root.left\n",
        "            root = None\n",
        "            return temp\n",
        "        temp = minValueNode(root.right)\n",
        "        root.key = temp.key\n",
        "        root.right = deleteNode(root.right, temp.key)\n",
        "    return root\n",
        "root = None\n",
        "root = insert(root, 8)\n",
        "root = insert(root, 3)\n",
        "root = insert(root, 1)\n",
        "root = insert(root, 6)\n",
        "root = insert(root, 7)\n",
        "root = insert(root, 10)\n",
        "root = insert(root, 14)\n",
        "root = insert(root, 4)\n",
        "print(\"Inorder traversal: \", end=' ')\n",
        "inorder(root)\n",
        "print(\"\\nDelete 10\")\n",
        "root = deleteNode(root, 10)\n",
        "print(\"Inorder traversal: \", end=' ')\n",
        "inorder(root)"
      ]
    }
  ]
}